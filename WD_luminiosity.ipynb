{
 "cells": [
  {
   "cell_type": "code",
   "execution_count": 1,
   "metadata": {},
   "outputs": [],
   "source": [
    "import numpy as np\n",
    "from matplotlib import pyplot as plt\n",
    "import matplotlib as mpl\n",
    "from glob import glob\n",
    "from scipy.interpolate import interp1d, BSpline, splrep, bisplev, bisplrep\n",
    "\n",
    "import mpl_style as mplt\n",
    "import matplotlib\n",
    "from dark_matter_limit_plotter import make_spline\n",
    "import constants as const\n",
    "from scipy.special import erf\n",
    "\n",
    "plt.style.use(['mvstyle', 'one_piece', 'half_page'])"
   ]
  },
  {
   "cell_type": "code",
   "execution_count": 2,
   "metadata": {},
   "outputs": [],
   "source": [
    "def mchiCgeom(Rstar, Mstar):\n",
    "    \"\"\"\n",
    "    Geometric Cross section of the NS in natural units\n",
    "\n",
    "    mdm in GeV\n",
    "    R in km\n",
    "    \"\"\"\n",
    "\n",
    "    vs = 20.0\n",
    "    vd = float(np.sqrt((8.0 * 1000.0 / const.cspeed )**2 + 3.0 * const.kBeV * 1e5 / const.me))\n",
    "    rhoDM = 798.0\n",
    "\n",
    "    BR = 1.0  - 2.0 * const.GNewt * Mstar * const.Msol/ (Rstar * 1e3) / const.cspeed**2\n",
    "\n",
    "    return np.pi * (Rstar * const.kmTOm * const.mTOinveV)**2 * (1.0 - BR) * (rhoDM / const.cmTOm**3 / const.mTOinveV**3) * erf(np.sqrt(3.0 * vs/2.0/vd)) / BR / (vs * const.kmTOm / const.cspeed) * 1e3\n"
   ]
  },
  {
   "cell_type": "code",
   "execution_count": 3,
   "metadata": {},
   "outputs": [],
   "source": [
    "masses, Teffs, Tcores = np.loadtxt('WD_data/berg_thin_tempertures.txt', skiprows=2, unpack=True)\n",
    "\n",
    "Tcore_interp = bisplrep(masses, np.log10(Teffs), np.log10(Tcores), s = 0.1)\n",
    "\n",
    "def Tcore(mass, temp):\n",
    "    \n",
    "    ltemp = np.log10(temp)\n",
    "    mass = np.array(mass)\n",
    "\n",
    "    return 10**np.array([bisplev(mass[ii], ltemp[ii], Tcore_interp) for ii in range(len(mass))])\n"
   ]
  },
  {
   "cell_type": "code",
   "execution_count": 4,
   "metadata": {},
   "outputs": [],
   "source": [
    "Teffs, Lums, Rstars, Mstars = np.loadtxt('WD_data/M4_data.dat', skiprows=1, unpack=True, usecols=(1, 2, 3, 4))\n",
    "Lums = Lums * 1e28 * 1e-7 * 6.242e18*1e-6 # in MeV/s\n",
    "Rstars = Rstars # in km\n",
    "\n",
    "spot_colours = Teffs #Tcore(Mstars, Teffs)"
   ]
  },
  {
   "cell_type": "code",
   "execution_count": 5,
   "metadata": {},
   "outputs": [],
   "source": [
    "crate_file_names = glob('capture_WD/*')\n",
    "crate_files = [xx.lstrip('capture_WD/crate_') for xx in crate_file_names]\n",
    "crate_files = [xx.lstrip('capture_WD/crate_') for xx in crate_files]\n",
    "ms_dm = np.array([float(xx.rstrip('.dat')) for xx in crate_files])\n",
    "\n",
    "ms_dm, crate_file_names = (list(t) for t in zip(*sorted(zip(ms_dm, crate_file_names))))"
   ]
  },
  {
   "cell_type": "code",
   "execution_count": 6,
   "metadata": {},
   "outputs": [],
   "source": [
    "mass_2 = 1e4\n",
    "mass_1 = 1.\n",
    "\n",
    "crates_2 = np.array([])\n",
    "for file in crate_file_names:\n",
    "    _mass, Crate = np.loadtxt(file, skiprows=1, usecols=(0, 1), unpack=True)\n",
    "    crates_2 = np.append(crates_2, Crate[np.argmin(np.abs(_mass - mass_2))])\n",
    "\n",
    "crates_1 = np.array([])\n",
    "for file in crate_file_names:\n",
    "    _mass, Crate = np.loadtxt(file, skiprows=1, usecols=(0, 1), unpack=True)\n",
    "    crates_1 = np.append(crates_1, Crate[np.argmin(np.abs(_mass - mass_1))])"
   ]
  },
  {
   "cell_type": "code",
   "execution_count": 7,
   "metadata": {},
   "outputs": [],
   "source": [
    "def Lum_DM(mchi, Cdm, LamDM):\n",
    "\n",
    "    return mchi * Cdm / LamDM**4"
   ]
  },
  {
   "cell_type": "code",
   "execution_count": 8,
   "metadata": {},
   "outputs": [],
   "source": [
    "_masses, _rads = (list(t) for t in zip(*sorted(zip(Mstars, Rstars))))\n",
    "mchiCgeom_int = mplt.make_spline(_masses[:-3], mchiCgeom(np.array(_rads)[:-3], np.array(_masses)[:-3])/const.inveVTOs, 0.0001, 3,  xscale='linear', yscale='log')"
   ]
  },
  {
   "cell_type": "code",
   "execution_count": 1,
   "metadata": {},
   "outputs": [
    {
     "ename": "NameError",
     "evalue": "name 'mplt' is not defined",
     "output_type": "error",
     "traceback": [
      "\u001b[0;31m---------------------------------------------------------------------------\u001b[0m",
      "\u001b[0;31mNameError\u001b[0m                                 Traceback (most recent call last)",
      "Cell \u001b[0;32mIn [1], line 1\u001b[0m\n\u001b[0;32m----> 1\u001b[0m fig, ax \u001b[38;5;241m=\u001b[39m mplt\u001b[38;5;241m.\u001b[39mgenerate_subplots(\u001b[38;5;241m2\u001b[39m)\n\u001b[1;32m      2\u001b[0m \u001b[38;5;66;03m# fig, ax = plt.subplots(1, 3)\u001b[39;00m\n\u001b[1;32m      3\u001b[0m \u001b[38;5;66;03m# fig, ax = plt.subplots()\u001b[39;00m\n\u001b[1;32m      4\u001b[0m WDs_scatter \u001b[38;5;241m=\u001b[39m ax[\u001b[38;5;241m0\u001b[39m]\u001b[38;5;241m.\u001b[39mscatter(Mstars, Lums, c\u001b[38;5;241m=\u001b[39mspot_colours, cmap\u001b[38;5;241m=\u001b[39m\u001b[38;5;124m'\u001b[39m\u001b[38;5;124mturbo\u001b[39m\u001b[38;5;124m'\u001b[39m, marker\u001b[38;5;241m=\u001b[39m\u001b[38;5;124m'\u001b[39m\u001b[38;5;124m*\u001b[39m\u001b[38;5;124m'\u001b[39m, s \u001b[38;5;241m=\u001b[39m \u001b[38;5;241m10\u001b[39m, lw \u001b[38;5;241m=\u001b[39m \u001b[38;5;241m0.1\u001b[39m, zorder \u001b[38;5;241m=\u001b[39m \u001b[38;5;241m10\u001b[39m)\n",
      "\u001b[0;31mNameError\u001b[0m: name 'mplt' is not defined"
     ]
    }
   ],
   "source": [
    "fig, ax = mplt.generate_subplots(2)\n",
    "# fig, ax = plt.subplots(1, 3)\n",
    "# fig, ax = plt.subplots()\n",
    "WDs_scatter = ax[0].scatter(Mstars, Lums, c=spot_colours, cmap='turbo', marker='*', s = 10, lw = 0.1, zorder = 10)\n",
    "WDs_scatter = ax[1].scatter(Mstars, Lums, c=spot_colours, cmap='turbo', marker='*', s = 10, lw = 0.1, zorder = 10)\n",
    "\n",
    "plot_masses = np.linspace(0.2, 1.4, 200)\n",
    "ax[0].plot(plot_masses[:-4], mchiCgeom_int(plot_masses[:-4]), zorder = 2, c = 'C00')\n",
    "\n",
    "lum_1 = mplt.make_spline(ms_dm, Lum_DM(mass_1, crates_1, 4.3), 0.001, 3, xscale='linear')\n",
    "lum_2 = mplt.make_spline(ms_dm, Lum_DM(mass_1, crates_1, 3.0), 0.001, 3, xscale='linear')\n",
    "lum_3 = mplt.make_spline(ms_dm, Lum_DM(mass_1, crates_1, 7.), 0.001, 3, xscale='linear')\n",
    "\n",
    "ax[0].plot(plot_masses, np.where(lum_1(plot_masses) <= mchiCgeom_int(plot_masses), lum_1(plot_masses), None), c = 'C07')\n",
    "ax[0].plot(plot_masses, np.where(lum_2(plot_masses) <= mchiCgeom_int(plot_masses), lum_2(plot_masses), None), c = 'grey', ls = '--')\n",
    "ax[0].plot(plot_masses, np.where(lum_3(plot_masses) <= mchiCgeom_int(plot_masses), lum_3(plot_masses), None), c = 'grey', ls = '--')\n",
    "\n",
    "\n",
    "# ax[0].text(0.8, 1e33, 'ok')\n",
    "ax[0].fill_between(plot_masses, 1e30, mchiCgeom_int(plot_masses), alpha = 0.4, color = 'C02', ec = 'none', zorder = -1)\n",
    "\n",
    "ax[0].set_yscale('log')\n",
    "ax[0].set_ylim(1e31, 1e37)\n",
    "ax[0].set_xlim(0.2, 1.6)\n",
    "\n",
    "mplt.label_line(ax[0], [plot_masses, np.where(lum_1(plot_masses) <= mchiCgeom_int(plot_masses), lum_1(plot_masses), None)], r'$L_\\chi(\\Lambda_e = 4.3\\;\\mathrm{MeV})$', 0.9, valign = 'center', xshift=-1, yshift=-8, size = 9, txt_col = 'C07')\n",
    "mplt.label_line(ax[0], [plot_masses, np.where(lum_2(plot_masses) <= mchiCgeom_int(plot_masses), lum_2(plot_masses), None)], r'$L_\\chi(\\Lambda_e = 3\\;\\mathrm{MeV})$', 0.8, valign = 'center', xshift=-5, yshift=5, size = 9, txt_col = 'grey')\n",
    "mplt.label_line(ax[0], [plot_masses, np.where(lum_3(plot_masses) <= mchiCgeom_int(plot_masses), lum_3(plot_masses), None)], r'$L_\\chi(\\Lambda_e = 7\\;\\mathrm{MeV})$', 0.8, valign = 'center', xshift=0, yshift=-10, size = 9, txt_col = 'grey')\n",
    "\n",
    "plot_masses = np.linspace(0.2, 1.4, 200)\n",
    "ax[1].plot(plot_masses[:-4], mchiCgeom_int(plot_masses[:-4]), zorder = 2, c = 'C00')\n",
    "\n",
    "lum_1 = mplt.make_spline(ms_dm, Lum_DM(mass_2, crates_2, 2.8e2), 0.001, 3, xscale='linear')\n",
    "lum_2 = mplt.make_spline(ms_dm, Lum_DM(mass_2, crates_2, 1e2), 0.001, 3, xscale='linear')\n",
    "lum_3 = mplt.make_spline(ms_dm, Lum_DM(mass_2, crates_2, 3.5e2), 0.001, 3, xscale='linear')\n",
    "\n",
    "ax[1].plot(plot_masses, np.where(lum_1(plot_masses) <= mchiCgeom_int(plot_masses), lum_1(plot_masses), None), c = 'C07')\n",
    "ax[1].plot(plot_masses, np.where(lum_2(plot_masses) <= mchiCgeom_int(plot_masses), lum_2(plot_masses), None), c = 'grey', ls = '--')\n",
    "ax[1].plot(plot_masses, np.where(lum_3(plot_masses) <= mchiCgeom_int(plot_masses), lum_3(plot_masses), None), c = 'grey', ls = '--')\n",
    "\n",
    "\n",
    "# ax[1].text(0.8, 1e33, 'ok')\n",
    "ax[1].fill_between(plot_masses, 1e30, mchiCgeom_int(plot_masses), alpha = 0.4, color = 'C02', ec = 'none', zorder = -1)\n",
    "\n",
    "ax[1].set_yscale('log')\n",
    "ax[1].set_ylim(1e31, 1e37)\n",
    "ax[1].set_xlim(0.2, 1.6)\n",
    "\n",
    "mplt.label_line(ax[1], [plot_masses, np.where(lum_1(plot_masses) <= mchiCgeom_int(plot_masses), lum_1(plot_masses), None)], r'$L_\\chi(\\Lambda_e = 280\\;\\mathrm{MeV})$', 0.9, valign = 'center', xshift=-1, yshift=10, size = 9, txt_col = 'C07')\n",
    "mplt.label_line(ax[1], [plot_masses, np.where(lum_2(plot_masses) <= mchiCgeom_int(plot_masses), lum_2(plot_masses), None)], r'$L_\\chi(\\Lambda_e = 100\\;\\mathrm{MeV})$', 0.8, valign = 'center', xshift=-5, yshift=5, size = 9, txt_col = 'grey')\n",
    "mplt.label_line(ax[1], [plot_masses, np.where(lum_3(plot_masses) <= mchiCgeom_int(plot_masses), lum_3(plot_masses), None)], r'$L_\\chi(\\Lambda_e = 350\\;\\mathrm{MeV})$', 1., halign = 'center', valign = 'center', xshift=10, yshift=-3, size = 9, txt_col = 'grey', rotn_adj=0)\n",
    "\n",
    "locmajx = matplotlib.ticker.MaxNLocator(8)\n",
    "ax[0].xaxis.set_major_locator(locmajx)\n",
    "\n",
    "ax[0].set_ylabel(r'$L_\\gamma$ (GeV s$^{-1}$)')\n",
    "ax[0].set_xlabel(r'$M_\\star\\;(M_\\odot)$')\n",
    "ax[1].set_xlabel(r'$M_\\star\\;(M_\\odot)$')\n",
    "\n",
    "locmajy = matplotlib.ticker.LogLocator(base=10.0, numticks=20)\n",
    "ax[0].yaxis.set_major_locator(locmajy)\n",
    "\n",
    "locminy = matplotlib.ticker.LogLocator(base=10.0, subs=np.linspace(0.1, 0.9, 9), numticks=100)\n",
    "ax[0].yaxis.set_minor_locator(locminy)\n",
    "ax[0].yaxis.set_minor_formatter(matplotlib.ticker.NullFormatter())\n",
    "\n",
    "plt.setp(ax[0].get_xticklabels()[-1], visible=False)\n",
    "\n",
    "fig.suptitle(r'M4 WD Observations', loc  = (0.5, 1))\n",
    "\n",
    "ax[0].text(0.05, 0.9, r'D1', transform=ax[0].transAxes)\n",
    "ax[0].text(0.5, 0.9, r'$m_\\chi=$ 1 MeV', transform=ax[0].transAxes, horizontalalignment = 'center')\n",
    "ax[0].text(0.45, 0.725, r'Geometric Limit', transform=ax[0].transAxes, horizontalalignment = 'center', size = 10, color = 'C00')\n",
    "ax[1].text(0.05, 0.9, r'D1', transform=ax[1].transAxes)\n",
    "ax[1].text(0.5, 0.9, r'$m_\\chi=$ 10 GeV', transform=ax[1].transAxes, horizontalalignment = 'center')\n",
    "ax[1].text(0.45, 0.725, r'Geometric Limit', transform=ax[1].transAxes, horizontalalignment = 'center', size = 10, color = 'C00')\n",
    "\n",
    "cb_ax = fig.add_axes([.91,.12,.02,.754])\n",
    "cbar = fig.colorbar(WDs_scatter,cax=cb_ax)\n",
    "cbar.set_ticks(np.arange(3000, 14000, 1500))\n",
    "# cbar.ax.locator_params(nbins=6)\n",
    "# cbar.set_label(r'$T_\\mathrm{eff}\\;\\mathrm{(K)}$', loc = 'top')\n",
    "cb_ax.set_title(r'$T_\\mathrm{eff}\\;\\mathrm{(K)}$', loc = 'left')\n",
    "\n",
    "plt.savefig('plots/Lum_WDmass_M4.pdf')"
   ]
  },
  {
   "cell_type": "code",
   "execution_count": null,
   "metadata": {},
   "outputs": [],
   "source": []
  }
 ],
 "metadata": {
  "kernelspec": {
   "display_name": "Python 3",
   "language": "python",
   "name": "python3"
  },
  "language_info": {
   "codemirror_mode": {
    "name": "ipython",
    "version": 3
   },
   "file_extension": ".py",
   "mimetype": "text/x-python",
   "name": "python",
   "nbconvert_exporter": "python",
   "pygments_lexer": "ipython3",
   "version": "3.8.10"
  }
 },
 "nbformat": 4,
 "nbformat_minor": 2
}
